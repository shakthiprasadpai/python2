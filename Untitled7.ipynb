{
  "nbformat": 4,
  "nbformat_minor": 0,
  "metadata": {
    "colab": {
      "private_outputs": true,
      "provenance": [],
      "authorship_tag": "ABX9TyORirulqoDLNq0TZCShlqVA",
      "include_colab_link": true
    },
    "kernelspec": {
      "name": "python3",
      "display_name": "Python 3"
    },
    "language_info": {
      "name": "python"
    }
  },
  "cells": [
    {
      "cell_type": "markdown",
      "metadata": {
        "id": "view-in-github",
        "colab_type": "text"
      },
      "source": [
        "<a href=\"https://colab.research.google.com/github/shakthiprasadpai/python2/blob/circleci-project-setup/Untitled7.ipynb\" target=\"_parent\"><img src=\"https://colab.research.google.com/assets/colab-badge.svg\" alt=\"Open In Colab\"/></a>"
      ]
    },
    {
      "cell_type": "code",
      "execution_count": null,
      "metadata": {
        "id": "PNwZ6t_OhMDA"
      },
      "outputs": [],
      "source": [
        "pip install bsedata"
      ]
    },
    {
      "cell_type": "code",
      "source": [
        "from bsedata.bse import BSE\n",
        "b = BSE()\n",
        "print(b)"
      ],
      "metadata": {
        "id": "0eNmhq7PhnWA"
      },
      "execution_count": null,
      "outputs": []
    },
    {
      "cell_type": "code",
      "source": [
        "q = b.getQuote('534976')\n",
        "print(q)"
      ],
      "metadata": {
        "id": "RQiw6nVLhn0d"
      },
      "execution_count": null,
      "outputs": []
    },
    {
      "cell_type": "code",
      "source": [
        "b = BSE()\n",
        "codelist = [\"500116\", \"512573\"]\n",
        "for code in codelist:\n",
        "    quote = b.getQuote(code)\n",
        "    print(quote[\"companyName\"])\n",
        "    print(quote[\"currentValue\"])\n",
        "    print(quote[\"updatedOn\"])"
      ],
      "metadata": {
        "id": "diTLPytuhoKp"
      },
      "execution_count": null,
      "outputs": []
    },
    {
      "cell_type": "code",
      "source": [
        "tg = b.topGainers()\n",
        "print(tg)"
      ],
      "metadata": {
        "id": "3d6XuGNsh0kY"
      },
      "execution_count": null,
      "outputs": []
    },
    {
      "cell_type": "code",
      "source": [
        "tg = b.topLosers()\n",
        "print(tg)"
      ],
      "metadata": {
        "id": "V1h5eA7Zh05f"
      },
      "execution_count": null,
      "outputs": []
    },
    {
      "cell_type": "code",
      "source": [
        "from google.colab import files\n",
        "uploaded = files.upload()"
      ],
      "metadata": {
        "id": "cgpUvs23h1HC"
      },
      "execution_count": null,
      "outputs": []
    },
    {
      "cell_type": "code",
      "source": [
        "pip install pandas"
      ],
      "metadata": {
        "id": "1waz03MEju8S"
      },
      "execution_count": null,
      "outputs": []
    },
    {
      "cell_type": "code",
      "source": [
        "\n",
        "import pandas as pd\n",
        "import io\n",
        "df = pd.read_csv(io.BytesIO(uploaded[filename]))"
      ],
      "metadata": {
        "id": "sXb7eeMUh1SP"
      },
      "execution_count": null,
      "outputs": []
    },
    {
      "cell_type": "code",
      "source": [],
      "metadata": {
        "id": "-Lhzm_gfhoZX"
      },
      "execution_count": null,
      "outputs": []
    },
    {
      "cell_type": "code",
      "source": [],
      "metadata": {
        "id": "nEdmbmhGhonJ"
      },
      "execution_count": null,
      "outputs": []
    }
  ]
}